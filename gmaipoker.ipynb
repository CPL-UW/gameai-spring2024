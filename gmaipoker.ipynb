{
 "cells": [
  {
   "cell_type": "code",
   "execution_count": 5,
   "id": "a4e83e87-533a-4aa8-b430-2f9e0a5e9383",
   "metadata": {},
   "outputs": [],
   "source": [
    "import json, os, sys, random"
   ]
  },
  {
   "cell_type": "code",
   "execution_count": 6,
   "id": "adfae5aa-686c-43c9-a4ba-c9b3f287a10d",
   "metadata": {},
   "outputs": [
    {
     "name": "stdout",
     "output_type": "stream",
     "text": [
      "['12:01:30.786 PM 04-Mar-2024', 'BET', {'name': 'charlie', 'bet': 1.0, 'folded': False, 'round_winner_by_cards': 'bob', 'chips': 18.0, 'face_down_cards': [['4', 'spade'], ['queen', 'spade'], ['9', 'heart']], 'face_up_cards': [['8', 'club']], 'face_player_cards': [['5', 'heart']], 'all_cards': [['8', 'club'], ['queen', 'spade'], ['4', 'spade'], ['9', 'heart'], ['5', 'heart']], 'handvalue': 'high card'}, {'name': 'danny', 'bet': 0.0, 'folded': False, 'round_winner_by_cards': 'bob', 'chips': 18.0, 'face_down_cards': [['9', 'diamond'], ['king', 'club'], ['queen', 'heart']], 'face_up_cards': [['ace', 'spade']], 'face_player_cards': [['10', 'spade']], 'all_cards': [['king', 'club'], ['ace', 'spade'], ['10', 'spade'], ['queen', 'heart'], ['9', 'diamond']], 'handvalue': 'high card'}, {'name': 'bob', 'bet': 1.0, 'folded': False, 'round_winner_by_cards': 'bob', 'chips': 18.0, 'face_down_cards': [['4', 'diamond'], ['7', 'spade'], ['8', 'diamond']], 'face_up_cards': [['4', 'heart']], 'face_player_cards': [['7', 'heart']], 'all_cards': [['8', 'diamond'], ['7', 'spade'], ['7', 'heart'], ['4', 'heart'], ['4', 'diamond']], 'handvalue': 'two pair'}]\n"
     ]
    }
   ],
   "source": [
    "infile = open(\"./poker.jsonl\",\"r\")\n",
    "data = []\n",
    "for line in infile:\n",
    "    data.append(json.loads(line))\n",
    "print(random.choice(data))"
   ]
  },
  {
   "cell_type": "code",
   "execution_count": null,
   "id": "d18d1458-c87c-4331-864e-4349057ab6e9",
   "metadata": {},
   "outputs": [],
   "source": []
  }
 ],
 "metadata": {
  "kernelspec": {
   "display_name": "Python 3 (ipykernel)",
   "language": "python",
   "name": "python3"
  },
  "language_info": {
   "codemirror_mode": {
    "name": "ipython",
    "version": 3
   },
   "file_extension": ".py",
   "mimetype": "text/x-python",
   "name": "python",
   "nbconvert_exporter": "python",
   "pygments_lexer": "ipython3",
   "version": "3.10.8"
  }
 },
 "nbformat": 4,
 "nbformat_minor": 5
}
