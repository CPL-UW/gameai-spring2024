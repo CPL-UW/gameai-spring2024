{
 "cells": [
  {
   "cell_type": "code",
   "execution_count": 34,
   "id": "df7dd827-e0e1-4194-82b5-6b2b7914b34d",
   "metadata": {},
   "outputs": [
    {
     "name": "stdout",
     "output_type": "stream",
     "text": [
      "Channels:\n",
      " - conda-forge\n",
      " - defaults\n",
      " - apple\n",
      "Platform: osx-arm64\n",
      "Collecting package metadata (repodata.json): done\n",
      "Solving environment: done\n",
      "\n",
      "# All requested packages already installed.\n",
      "\n"
     ]
    }
   ],
   "source": [
    "import sys\n",
    "!conda install --yes --prefix {sys.prefix} ipycanvas\n",
    "import numpy as np\n",
    "from ipycanvas import Canvas, hold_canvas"
   ]
  },
  {
   "cell_type": "code",
   "execution_count": 35,
   "id": "af97f84e-2ff9-4e94-8fe3-4b576a24c293",
   "metadata": {},
   "outputs": [
    {
     "data": {
      "application/vnd.jupyter.widget-view+json": {
       "model_id": "1df15d82ef0a45949793239a3b779eca",
       "version_major": 2,
       "version_minor": 0
      },
      "text/plain": [
       "Canvas(height=300, width=400)"
      ]
     },
     "execution_count": 35,
     "metadata": {},
     "output_type": "execute_result"
    }
   ],
   "source": [
    "w = 400\n",
    "h = 300\n",
    "canvas = Canvas(width=w, height=h)\n",
    "n_shapes = 50\n",
    "x = np.random.randint(0, canvas.width, size=(n_shapes))\n",
    "y = np.random.randint(0, canvas.width, size=(n_shapes))\n",
    "r = np.random.randint(5, 20, size=(n_shapes))\n",
    "\n",
    "colors_fill = np.random.randint(0, 255, size=(n_shapes, 3))\n",
    "colors_outline = np.random.randint(0, 255, size=(n_shapes, 3))\n",
    "alphas = np.random.random(n_shapes)\n",
    "\n",
    "with hold_canvas():\n",
    "    canvas.line_width = 2\n",
    "    # canvas.fill_styled_rects(x, y, r, r, color=colors_fill, alpha=alphas)\n",
    "    # canvas.stroke_styled_rects(x, y, r, r, color=colors_outline, alpha=alphas)\n",
    "    canvas.fill_styled_circles(x, y, r, color=colors_fill, alpha=alphas)\n",
    "    canvas.stroke_styled_circles(x, y, r, color=colors_outline)\n",
    "    # canvas.fill_style = \"green\"\n",
    "    # canvas.fill_circle(w / 2, h / 2, h / 4)\n",
    "canvas"
   ]
  },
  {
   "cell_type": "code",
   "execution_count": null,
   "id": "a089d6b4-d5b2-4c38-a489-e80ddf572e58",
   "metadata": {},
   "outputs": [],
   "source": []
  }
 ],
 "metadata": {
  "kernelspec": {
   "display_name": "Python 3 (ipykernel)",
   "language": "python",
   "name": "python3"
  },
  "language_info": {
   "codemirror_mode": {
    "name": "ipython",
    "version": 3
   },
   "file_extension": ".py",
   "mimetype": "text/x-python",
   "name": "python",
   "nbconvert_exporter": "python",
   "pygments_lexer": "ipython3",
   "version": "3.10.8"
  }
 },
 "nbformat": 4,
 "nbformat_minor": 5
}
