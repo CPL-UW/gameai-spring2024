{
 "cells": [
  {
   "cell_type": "code",
   "execution_count": 6,
   "id": "aaa4f1b7-b07b-4126-b629-1b9039feeefe",
   "metadata": {},
   "outputs": [],
   "source": [
    "import json, sys, os\n",
    "import tensorflow as tf\n",
    "from tensorflow.keras.layers import *\n",
    "import numpy as np\n",
    "import sklearn "
   ]
  },
  {
   "cell_type": "code",
   "execution_count": 63,
   "id": "3f6be277-425f-4a43-9fb2-de9b8238617a",
   "metadata": {},
   "outputs": [
    {
     "data": {
      "text/plain": [
       "'2.8.0'"
      ]
     },
     "metadata": {},
     "output_type": "display_data"
    }
   ],
   "source": [
    "display(tf.__version__)"
   ]
  },
  {
   "cell_type": "code",
   "execution_count": 8,
   "id": "59798ba2-af94-42cc-89a6-518cd2378138",
   "metadata": {},
   "outputs": [
    {
     "data": {
      "text/plain": [
       "'[ \"12:01:32.686 PM 04-Mar-2024\" , \"BET\" , {\"name\":\"danny\", \"bet\":1.0, \"folded\":\"false\", \"round_winner_by_cards\": \"charlie\", \"chips\":14.0, \"face_down_cards\":[[\"2\",\"diamond\"]], \"face_up_cards\":[[\"2\",\"heart\"],[\"9\",\"diamond\"],[\"8\",\"diamond\"]],\"face_player_cards\":[[\"3\",\"heart\"]],\"all_cards\":[[\"2\",\"diamond\"],[\"3\",\"heart\"],[\"8\",\"diamond\"],[\"2\",\"heart\"],[\"9\",\"diamond\"]], \"handvalue\":\"one pair\"}]'"
      ]
     },
     "execution_count": 8,
     "metadata": {},
     "output_type": "execute_result"
    }
   ],
   "source": [
    "foo = '[ \"12:01:32.686 PM 04-Mar-2024\" , \"BET\" , {\"name\":\"danny\", \"bet\":1.0, \"folded\":\"false\", \"round_winner_by_cards\": \"charlie\", \"chips\":14.0, \"face_down_cards\":[[\"2\",\"diamond\"]], \"face_up_cards\":[[\"2\",\"heart\"],[\"9\",\"diamond\"],[\"8\",\"diamond\"]],\"face_player_cards\":[[\"3\",\"heart\"]],\"all_cards\":[[\"2\",\"diamond\"],[\"3\",\"heart\"],[\"8\",\"diamond\"],[\"2\",\"heart\"],[\"9\",\"diamond\"]], \"handvalue\":\"one pair\"}]'\n",
    "foo"
   ]
  },
  {
   "cell_type": "code",
   "execution_count": 10,
   "id": "b5341565-694e-4150-8064-98aaa29dc94d",
   "metadata": {},
   "outputs": [
    {
     "data": {
      "text/plain": [
       "['12:01:32.686 PM 04-Mar-2024',\n",
       " 'BET',\n",
       " {'name': 'danny',\n",
       "  'bet': 1.0,\n",
       "  'folded': 'false',\n",
       "  'round_winner_by_cards': 'charlie',\n",
       "  'chips': 14.0,\n",
       "  'face_down_cards': [['2', 'diamond']],\n",
       "  'face_up_cards': [['2', 'heart'], ['9', 'diamond'], ['8', 'diamond']],\n",
       "  'face_player_cards': [['3', 'heart']],\n",
       "  'all_cards': [['2', 'diamond'],\n",
       "   ['3', 'heart'],\n",
       "   ['8', 'diamond'],\n",
       "   ['2', 'heart'],\n",
       "   ['9', 'diamond']],\n",
       "  'handvalue': 'one pair'}]"
      ]
     },
     "execution_count": 10,
     "metadata": {},
     "output_type": "execute_result"
    }
   ],
   "source": [
    "my_row = json.loads(foo)\n",
    "my_row"
   ]
  },
  {
   "cell_type": "code",
   "execution_count": 11,
   "id": "bb997240-79c7-4566-937a-29ea9a4094e9",
   "metadata": {},
   "outputs": [
    {
     "data": {
      "text/plain": [
       "'12:01:32.686 PM 04-Mar-2024'"
      ]
     },
     "execution_count": 11,
     "metadata": {},
     "output_type": "execute_result"
    }
   ],
   "source": [
    "my_row[0]"
   ]
  },
  {
   "cell_type": "code",
   "execution_count": 12,
   "id": "21bb26df-bd3b-41e1-ba26-627f512cacdd",
   "metadata": {},
   "outputs": [
    {
     "data": {
      "text/plain": [
       "'BET'"
      ]
     },
     "execution_count": 12,
     "metadata": {},
     "output_type": "execute_result"
    }
   ],
   "source": [
    "my_row[1]"
   ]
  },
  {
   "cell_type": "code",
   "execution_count": 16,
   "id": "6b3835e2-db0d-446e-9a7b-5f35fb8c7971",
   "metadata": {},
   "outputs": [
    {
     "data": {
      "text/plain": [
       "{'name': 'danny',\n",
       " 'bet': 1.0,\n",
       " 'folded': 'false',\n",
       " 'round_winner_by_cards': 'charlie',\n",
       " 'chips': 14.0,\n",
       " 'face_down_cards': [['2', 'diamond']],\n",
       " 'face_up_cards': [['2', 'heart'], ['9', 'diamond'], ['8', 'diamond']],\n",
       " 'face_player_cards': [['3', 'heart']],\n",
       " 'all_cards': [['2', 'diamond'],\n",
       "  ['3', 'heart'],\n",
       "  ['8', 'diamond'],\n",
       "  ['2', 'heart'],\n",
       "  ['9', 'diamond']],\n",
       " 'handvalue': 'one pair'}"
      ]
     },
     "execution_count": 16,
     "metadata": {},
     "output_type": "execute_result"
    }
   ],
   "source": [
    "my_row[2]"
   ]
  },
  {
   "cell_type": "code",
   "execution_count": 17,
   "id": "9dc8aab2-c5c3-4907-b3f2-555ac85441b9",
   "metadata": {},
   "outputs": [
    {
     "data": {
      "text/plain": [
       "'charlie'"
      ]
     },
     "execution_count": 17,
     "metadata": {},
     "output_type": "execute_result"
    }
   ],
   "source": [
    "my_row[2][\"round_winner_by_cards\"]"
   ]
  },
  {
   "cell_type": "code",
   "execution_count": 5,
   "id": "b02217a8-5dca-4ca1-bfc4-9ca52b4c92d3",
   "metadata": {},
   "outputs": [
    {
     "data": {
      "text/plain": [
       "['12:01:30.659 PM 04-Mar-2024',\n",
       " 'BET',\n",
       " {'name': 'elissa',\n",
       "  'bet': 0.0,\n",
       "  'folded': True,\n",
       "  'round_winner_by_cards': 'bob',\n",
       "  'chips': 0.0,\n",
       "  'face_down_cards': [],\n",
       "  'face_up_cards': [['4', 'diamond']],\n",
       "  'face_player_cards': [['2', 'heart'],\n",
       "   ['queen', 'club'],\n",
       "   ['9', 'club'],\n",
       "   ['4', 'spade']],\n",
       "  'all_cards': [['2', 'heart'],\n",
       "   ['9', 'club'],\n",
       "   ['4', 'diamond'],\n",
       "   ['4', 'spade'],\n",
       "   ['queen', 'club']],\n",
       "  'handvalue': 'one pair'},\n",
       " {'name': 'bob',\n",
       "  'bet': 0.0,\n",
       "  'folded': False,\n",
       "  'round_winner_by_cards': 'bob',\n",
       "  'chips': 23.0,\n",
       "  'face_down_cards': [['6', 'heart'], ['6', 'diamond']],\n",
       "  'face_up_cards': [['jack', 'spade'], ['5', 'heart']],\n",
       "  'face_player_cards': [['9', 'spade']],\n",
       "  'all_cards': [['9', 'spade'],\n",
       "   ['5', 'heart'],\n",
       "   ['6', 'diamond'],\n",
       "   ['jack', 'spade'],\n",
       "   ['6', 'heart']],\n",
       "  'handvalue': 'one pair'},\n",
       " {'name': 'danny',\n",
       "  'bet': 2.0,\n",
       "  'folded': False,\n",
       "  'round_winner_by_cards': 'bob',\n",
       "  'chips': 21.0,\n",
       "  'face_down_cards': [['4', 'heart'], ['9', 'heart']],\n",
       "  'face_up_cards': [['10', 'spade'], ['king', 'spade']],\n",
       "  'face_player_cards': [['jack', 'heart']],\n",
       "  'all_cards': [['4', 'heart'],\n",
       "   ['10', 'spade'],\n",
       "   ['jack', 'heart'],\n",
       "   ['9', 'heart'],\n",
       "   ['king', 'spade']],\n",
       "  'handvalue': 'high card'}]"
      ]
     },
     "metadata": {},
     "output_type": "display_data"
    }
   ],
   "source": [
    "infilename = \"./poker.jsonl\"\n",
    "data = []\n",
    "infile = open(infilename,\"r\")\n",
    "for row in infile:\n",
    "    data.append(json.loads(row))\n",
    "display(data[100])"
   ]
  },
  {
   "cell_type": "code",
   "execution_count": 75,
   "id": "c61db8ff-9527-4d10-aef7-823e3d2fb2fe",
   "metadata": {},
   "outputs": [
    {
     "name": "stdout",
     "output_type": "stream",
     "text": [
      "Model: \"sequential_6\"\n",
      "_________________________________________________________________\n",
      " Layer (type)                Output Shape              Param #   \n",
      "=================================================================\n",
      " dense_15 (Dense)            (None, 100)               5300      \n",
      "                                                                 \n",
      " dense_16 (Dense)            (None, 1)                 101       \n",
      "                                                                 \n",
      "=================================================================\n",
      "Total params: 5,401\n",
      "Trainable params: 5,401\n",
      "Non-trainable params: 0\n",
      "_________________________________________________________________\n",
      "None\n"
     ]
    }
   ],
   "source": [
    "model = tf.keras.Sequential()\n",
    "model.add(tf.keras.Input(52))\n",
    "model.add(tf.keras.layers.Dense(100,activation=\"relu\"))\n",
    "model.add(tf.keras.layers.Dense(1))\n",
    "model.build()#(None, 16))\n",
    "print(model.summary())"
   ]
  },
  {
   "cell_type": "code",
   "execution_count": 76,
   "id": "5a6feddb-f397-4cbf-b8bb-f92f2e433f2d",
   "metadata": {},
   "outputs": [
    {
     "ename": "ValueError",
     "evalue": "Input 0 of layer \"sequential_6\" is incompatible with the layer: expected shape=(None, 52), found shape=(1, 10)",
     "output_type": "error",
     "traceback": [
      "\u001b[0;31m---------------------------------------------------------------------------\u001b[0m",
      "\u001b[0;31mValueError\u001b[0m                                Traceback (most recent call last)",
      "Cell \u001b[0;32mIn[76], line 1\u001b[0m\n\u001b[0;32m----> 1\u001b[0m \u001b[43mmodel\u001b[49m\u001b[43m(\u001b[49m\u001b[43mtf\u001b[49m\u001b[38;5;241;43m.\u001b[39;49m\u001b[43mones\u001b[49m\u001b[43m(\u001b[49m\u001b[43m(\u001b[49m\u001b[38;5;241;43m1\u001b[39;49m\u001b[43m,\u001b[49m\u001b[38;5;241;43m10\u001b[39;49m\u001b[43m)\u001b[49m\u001b[43m)\u001b[49m\u001b[43m)\u001b[49m\n",
      "File \u001b[0;32m~/miniforge3/envs/gameai/lib/python3.10/site-packages/keras/utils/traceback_utils.py:67\u001b[0m, in \u001b[0;36mfilter_traceback.<locals>.error_handler\u001b[0;34m(*args, **kwargs)\u001b[0m\n\u001b[1;32m     65\u001b[0m \u001b[38;5;28;01mexcept\u001b[39;00m \u001b[38;5;167;01mException\u001b[39;00m \u001b[38;5;28;01mas\u001b[39;00m e:  \u001b[38;5;66;03m# pylint: disable=broad-except\u001b[39;00m\n\u001b[1;32m     66\u001b[0m   filtered_tb \u001b[38;5;241m=\u001b[39m _process_traceback_frames(e\u001b[38;5;241m.\u001b[39m__traceback__)\n\u001b[0;32m---> 67\u001b[0m   \u001b[38;5;28;01mraise\u001b[39;00m e\u001b[38;5;241m.\u001b[39mwith_traceback(filtered_tb) \u001b[38;5;28;01mfrom\u001b[39;00m \u001b[38;5;28mNone\u001b[39m\n\u001b[1;32m     68\u001b[0m \u001b[38;5;28;01mfinally\u001b[39;00m:\n\u001b[1;32m     69\u001b[0m   \u001b[38;5;28;01mdel\u001b[39;00m filtered_tb\n",
      "File \u001b[0;32m~/miniforge3/envs/gameai/lib/python3.10/site-packages/keras/engine/input_spec.py:264\u001b[0m, in \u001b[0;36massert_input_compatibility\u001b[0;34m(input_spec, inputs, layer_name)\u001b[0m\n\u001b[1;32m    262\u001b[0m \u001b[38;5;28;01mif\u001b[39;00m spec_dim \u001b[38;5;129;01mis\u001b[39;00m \u001b[38;5;129;01mnot\u001b[39;00m \u001b[38;5;28;01mNone\u001b[39;00m \u001b[38;5;129;01mand\u001b[39;00m dim \u001b[38;5;129;01mis\u001b[39;00m \u001b[38;5;129;01mnot\u001b[39;00m \u001b[38;5;28;01mNone\u001b[39;00m:\n\u001b[1;32m    263\u001b[0m   \u001b[38;5;28;01mif\u001b[39;00m spec_dim \u001b[38;5;241m!=\u001b[39m dim:\n\u001b[0;32m--> 264\u001b[0m     \u001b[38;5;28;01mraise\u001b[39;00m \u001b[38;5;167;01mValueError\u001b[39;00m(\u001b[38;5;124mf\u001b[39m\u001b[38;5;124m'\u001b[39m\u001b[38;5;124mInput \u001b[39m\u001b[38;5;132;01m{\u001b[39;00minput_index\u001b[38;5;132;01m}\u001b[39;00m\u001b[38;5;124m of layer \u001b[39m\u001b[38;5;124m\"\u001b[39m\u001b[38;5;132;01m{\u001b[39;00mlayer_name\u001b[38;5;132;01m}\u001b[39;00m\u001b[38;5;124m\"\u001b[39m\u001b[38;5;124m is \u001b[39m\u001b[38;5;124m'\u001b[39m\n\u001b[1;32m    265\u001b[0m                      \u001b[38;5;124m'\u001b[39m\u001b[38;5;124mincompatible with the layer: \u001b[39m\u001b[38;5;124m'\u001b[39m\n\u001b[1;32m    266\u001b[0m                      \u001b[38;5;124mf\u001b[39m\u001b[38;5;124m'\u001b[39m\u001b[38;5;124mexpected shape=\u001b[39m\u001b[38;5;132;01m{\u001b[39;00mspec\u001b[38;5;241m.\u001b[39mshape\u001b[38;5;132;01m}\u001b[39;00m\u001b[38;5;124m, \u001b[39m\u001b[38;5;124m'\u001b[39m\n\u001b[1;32m    267\u001b[0m                      \u001b[38;5;124mf\u001b[39m\u001b[38;5;124m'\u001b[39m\u001b[38;5;124mfound shape=\u001b[39m\u001b[38;5;132;01m{\u001b[39;00mdisplay_shape(x\u001b[38;5;241m.\u001b[39mshape)\u001b[38;5;132;01m}\u001b[39;00m\u001b[38;5;124m'\u001b[39m)\n",
      "\u001b[0;31mValueError\u001b[0m: Input 0 of layer \"sequential_6\" is incompatible with the layer: expected shape=(None, 52), found shape=(1, 10)"
     ]
    }
   ],
   "source": [
    "model(tf.ones((1,10)))"
   ]
  },
  {
   "cell_type": "code",
   "execution_count": 77,
   "id": "c4b6d8b2-a48c-48d2-93bc-5bb1621b572a",
   "metadata": {},
   "outputs": [
    {
     "data": {
      "text/plain": [
       "array([[1., 1., 1., 1., 1., 1., 1., 1., 1., 1.]], dtype=float32)"
      ]
     },
     "execution_count": 77,
     "metadata": {},
     "output_type": "execute_result"
    }
   ],
   "source": [
    "tf.ones((1,10)).numpy()"
   ]
  },
  {
   "cell_type": "code",
   "execution_count": 78,
   "id": "179ab1b4-f83f-4ab2-a616-4cbfd29c3d75",
   "metadata": {},
   "outputs": [],
   "source": [
    "cards_rows = list(sorted(map(lambda x : x[2].get(\"all_cards\",[]) , data[1000:2100])))\n",
    "foo = set()\n",
    "for cardrow in cards_rows:\n",
    "    # print(cardrow)\n",
    "    for card in cardrow:\n",
    "        foo.update([str(card)])\n",
    "all_cards = list(map(eval,foo))"
   ]
  },
  {
   "cell_type": "code",
   "execution_count": 79,
   "id": "1070aa2e-0033-4390-a50e-74e3bb437065",
   "metadata": {},
   "outputs": [
    {
     "data": {
      "text/plain": [
       "52"
      ]
     },
     "metadata": {},
     "output_type": "display_data"
    }
   ],
   "source": [
    "display(len(all_cards))\n",
    "# cd = {}\n",
    "# counter = 0\n",
    "# for card in "
   ]
  },
  {
   "cell_type": "code",
   "execution_count": 93,
   "id": "610831d5-df1c-4dbf-81b3-d9fff6066c80",
   "metadata": {},
   "outputs": [
    {
     "data": {
      "text/plain": [
       "<tf.Tensor: shape=(1, 1), dtype=float32, numpy=array([[-0.07683166]], dtype=float32)>"
      ]
     },
     "execution_count": 93,
     "metadata": {},
     "output_type": "execute_result"
    }
   ],
   "source": [
    "x = list(map(lambda x: 1.0 if x == ['king', 'diamond'] else 0.0, all_cards))\n",
    "model(np.array([x],dtype=\"float32\").reshape((1,52)))"
   ]
  },
  {
   "cell_type": "code",
   "execution_count": 95,
   "id": "894e4326-003d-4973-b06b-e26c38cada97",
   "metadata": {},
   "outputs": [
    {
     "data": {
      "text/plain": [
       "array([0., 0., 0., 0., 0., 0., 0., 0., 0., 0., 0., 1., 0., 0., 0., 0., 0.,\n",
       "       0., 0., 0., 0., 0., 0., 0., 0., 0., 0., 0., 0., 0., 0., 0., 0., 0.,\n",
       "       0., 0., 0., 0., 0., 0., 0., 0., 0., 0., 0., 0., 0., 0., 0., 0., 0.,\n",
       "       0.])"
      ]
     },
     "execution_count": 95,
     "metadata": {},
     "output_type": "execute_result"
    }
   ],
   "source": [
    "np.array(x)"
   ]
  },
  {
   "cell_type": "code",
   "execution_count": 91,
   "id": "f5e4c625-727c-4e14-92b9-689aaee4d59d",
   "metadata": {},
   "outputs": [
    {
     "data": {
      "text/plain": [
       "<tf.Tensor: shape=(1, 1), dtype=float32, numpy=array([[-0.07177815]], dtype=float32)>"
      ]
     },
     "execution_count": 91,
     "metadata": {},
     "output_type": "execute_result"
    }
   ],
   "source": [
    "model(tf.ones((1,52)))"
   ]
  },
  {
   "cell_type": "code",
   "execution_count": 96,
   "id": "0ce0a049-a0b7-4402-bd59-183e89f9660c",
   "metadata": {},
   "outputs": [],
   "source": [
    "def player_card(row):\n",
    "    field = \"face_player_cards\"\n",
    "    if field not in row[2]:\n",
    "        return \".\"\n",
    "    card = row[2][field][0]\n",
    "    return list(map(lambda x: 1 if x == card else 0, all_cards))\n",
    "x = list(map(player_card,data[10:20]))\n"
   ]
  },
  {
   "cell_type": "code",
   "execution_count": 103,
   "id": "eaddc033-00f2-4430-b17e-6ded38545b66",
   "metadata": {},
   "outputs": [
    {
     "data": {
      "text/plain": [
       "<tf.Tensor: shape=(10, 1), dtype=float32, numpy=\n",
       "array([[-0.07683167],\n",
       "       [-0.06291442],\n",
       "       [ 0.13455272],\n",
       "       [-0.06291442],\n",
       "       [ 0.13455272],\n",
       "       [ 0.13455272],\n",
       "       [ 0.13455272],\n",
       "       [-0.07683167],\n",
       "       [-0.07683167],\n",
       "       [-0.06291442]], dtype=float32)>"
      ]
     },
     "execution_count": 103,
     "metadata": {},
     "output_type": "execute_result"
    }
   ],
   "source": [
    "model(np.array(x).reshape((-1,52)))"
   ]
  },
  {
   "cell_type": "code",
   "execution_count": 102,
   "id": "b387d20a-8575-47b3-86d6-32416d5d4730",
   "metadata": {},
   "outputs": [
    {
     "data": {
      "text/plain": [
       "array([[0, 0, 0, 0, 0, 0, 0, 0, 0, 0, 0, 1, 0, 0, 0, 0, 0, 0, 0, 0, 0, 0,\n",
       "        0, 0, 0, 0, 0, 0, 0, 0, 0, 0, 0, 0, 0, 0, 0, 0, 0, 0, 0, 0, 0, 0,\n",
       "        0, 0, 0, 0, 0, 0, 0, 0],\n",
       "       [1, 0, 0, 0, 0, 0, 0, 0, 0, 0, 0, 0, 0, 0, 0, 0, 0, 0, 0, 0, 0, 0,\n",
       "        0, 0, 0, 0, 0, 0, 0, 0, 0, 0, 0, 0, 0, 0, 0, 0, 0, 0, 0, 0, 0, 0,\n",
       "        0, 0, 0, 0, 0, 0, 0, 0],\n",
       "       [0, 0, 0, 0, 0, 0, 0, 0, 0, 0, 0, 0, 0, 0, 0, 0, 0, 0, 0, 0, 0, 0,\n",
       "        0, 0, 0, 0, 0, 0, 0, 0, 0, 0, 0, 0, 0, 0, 0, 0, 1, 0, 0, 0, 0, 0,\n",
       "        0, 0, 0, 0, 0, 0, 0, 0],\n",
       "       [1, 0, 0, 0, 0, 0, 0, 0, 0, 0, 0, 0, 0, 0, 0, 0, 0, 0, 0, 0, 0, 0,\n",
       "        0, 0, 0, 0, 0, 0, 0, 0, 0, 0, 0, 0, 0, 0, 0, 0, 0, 0, 0, 0, 0, 0,\n",
       "        0, 0, 0, 0, 0, 0, 0, 0],\n",
       "       [0, 0, 0, 0, 0, 0, 0, 0, 0, 0, 0, 0, 0, 0, 0, 0, 0, 0, 0, 0, 0, 0,\n",
       "        0, 0, 0, 0, 0, 0, 0, 0, 0, 0, 0, 0, 0, 0, 0, 0, 1, 0, 0, 0, 0, 0,\n",
       "        0, 0, 0, 0, 0, 0, 0, 0],\n",
       "       [0, 0, 0, 0, 0, 0, 0, 0, 0, 0, 0, 0, 0, 0, 0, 0, 0, 0, 0, 0, 0, 0,\n",
       "        0, 0, 0, 0, 0, 0, 0, 0, 0, 0, 0, 0, 0, 0, 0, 0, 1, 0, 0, 0, 0, 0,\n",
       "        0, 0, 0, 0, 0, 0, 0, 0],\n",
       "       [0, 0, 0, 0, 0, 0, 0, 0, 0, 0, 0, 0, 0, 0, 0, 0, 0, 0, 0, 0, 0, 0,\n",
       "        0, 0, 0, 0, 0, 0, 0, 0, 0, 0, 0, 0, 0, 0, 0, 0, 1, 0, 0, 0, 0, 0,\n",
       "        0, 0, 0, 0, 0, 0, 0, 0],\n",
       "       [0, 0, 0, 0, 0, 0, 0, 0, 0, 0, 0, 1, 0, 0, 0, 0, 0, 0, 0, 0, 0, 0,\n",
       "        0, 0, 0, 0, 0, 0, 0, 0, 0, 0, 0, 0, 0, 0, 0, 0, 0, 0, 0, 0, 0, 0,\n",
       "        0, 0, 0, 0, 0, 0, 0, 0],\n",
       "       [0, 0, 0, 0, 0, 0, 0, 0, 0, 0, 0, 1, 0, 0, 0, 0, 0, 0, 0, 0, 0, 0,\n",
       "        0, 0, 0, 0, 0, 0, 0, 0, 0, 0, 0, 0, 0, 0, 0, 0, 0, 0, 0, 0, 0, 0,\n",
       "        0, 0, 0, 0, 0, 0, 0, 0],\n",
       "       [1, 0, 0, 0, 0, 0, 0, 0, 0, 0, 0, 0, 0, 0, 0, 0, 0, 0, 0, 0, 0, 0,\n",
       "        0, 0, 0, 0, 0, 0, 0, 0, 0, 0, 0, 0, 0, 0, 0, 0, 0, 0, 0, 0, 0, 0,\n",
       "        0, 0, 0, 0, 0, 0, 0, 0]])"
      ]
     },
     "execution_count": 102,
     "metadata": {},
     "output_type": "execute_result"
    }
   ],
   "source": [
    "np.array(x).reshape((-1,52))"
   ]
  },
  {
   "cell_type": "code",
   "execution_count": null,
   "id": "ce5d6222-b3e0-42a5-a584-86bb056930be",
   "metadata": {},
   "outputs": [],
   "source": []
  }
 ],
 "metadata": {
  "kernelspec": {
   "display_name": "Python 3 (ipykernel)",
   "language": "python",
   "name": "python3"
  },
  "language_info": {
   "codemirror_mode": {
    "name": "ipython",
    "version": 3
   },
   "file_extension": ".py",
   "mimetype": "text/x-python",
   "name": "python",
   "nbconvert_exporter": "python",
   "pygments_lexer": "ipython3",
   "version": "3.10.8"
  }
 },
 "nbformat": 4,
 "nbformat_minor": 5
}
