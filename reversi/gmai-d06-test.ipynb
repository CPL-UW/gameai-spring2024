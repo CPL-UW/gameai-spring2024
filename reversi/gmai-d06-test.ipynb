{
 "cells": [
  {
   "cell_type": "code",
   "execution_count": 1,
   "id": "18f1c9db-6e9c-4c23-a5dd-d2d659785913",
   "metadata": {},
   "outputs": [],
   "source": [
    "# import pygame\n",
    "import tensorflow as tf\n",
    "import numpy as np\n",
    "import random\n",
    "import pandas as pd\n",
    "from sklearn.model_selection import train_test_split"
   ]
  },
  {
   "cell_type": "code",
   "execution_count": 14,
   "id": "4fdfcedc-6cb1-4b7d-8198-7415403a623b",
   "metadata": {},
   "outputs": [],
   "source": [
    "x = pd.read_csv(\"./x.csv\")\n",
    "y = pd.read_csv(\"./y.csv\")\n",
    "x_train, x_test, y_train, y_test = train_test_split(x.to_numpy(), y.to_numpy(), test_size=0.33)"
   ]
  },
  {
   "cell_type": "code",
   "execution_count": 15,
   "id": "24071267-c82e-4b58-9a67-709704a9580b",
   "metadata": {},
   "outputs": [
    {
     "data": {
      "text/plain": [
       "(228574, 64)"
      ]
     },
     "metadata": {},
     "output_type": "display_data"
    },
    {
     "data": {
      "text/plain": [
       "(228574, 2)"
      ]
     },
     "metadata": {},
     "output_type": "display_data"
    }
   ],
   "source": [
    "display(x_train.shape)\n",
    "display(y_train.shape)"
   ]
  },
  {
   "cell_type": "code",
   "execution_count": 16,
   "id": "d41b3c5e-f610-4935-9981-ad2904042437",
   "metadata": {},
   "outputs": [],
   "source": [
    "model = tf.keras.models.Sequential([\n",
    "    tf.keras.layers.Dense(64),\n",
    "    # tf.keras.layers.Dense(128),\n",
    "    # tf.keras.layers.Dense(256),\n",
    "    # tf.keras.layers.BatchNormalization(),\n",
    "    tf.keras.layers.Dense(256, activation='relu'),\n",
    "    # tf.keras.layers.Dropout(0.1),\n",
    "    tf.keras.layers.Dense(2)\n",
    "])\n",
    "loss_fn = tf.keras.losses.MeanAbsoluteError() #BinaryFocalCrossentropy(from_logits=True)\n",
    "model.compile(optimizer='adam',\n",
    "              loss=loss_fn,\n",
    "              metrics=tf.keras.metrics.MeanSquaredError())"
   ]
  },
  {
   "cell_type": "code",
   "execution_count": 17,
   "id": "ee4b10d4-a3a9-4578-bee1-794f31094632",
   "metadata": {},
   "outputs": [
    {
     "name": "stdout",
     "output_type": "stream",
     "text": [
      "Epoch 1/100\n",
      "7143/7143 [==============================] - 4s 544us/step - loss: 0.2018 - mean_squared_error: 0.0744\n",
      "Epoch 2/100\n",
      "7143/7143 [==============================] - 4s 545us/step - loss: 0.1861 - mean_squared_error: 0.0704\n",
      "Epoch 3/100\n",
      "7143/7143 [==============================] - 4s 542us/step - loss: 0.1811 - mean_squared_error: 0.0683\n",
      "Epoch 4/100\n",
      "7143/7143 [==============================] - 4s 542us/step - loss: 0.1777 - mean_squared_error: 0.0661\n",
      "Epoch 5/100\n",
      "7143/7143 [==============================] - 4s 547us/step - loss: 0.1753 - mean_squared_error: 0.0637\n",
      "Epoch 6/100\n",
      "7143/7143 [==============================] - 4s 513us/step - loss: 0.1733 - mean_squared_error: 0.0616\n",
      "Epoch 7/100\n",
      "7143/7143 [==============================] - 4s 544us/step - loss: 0.1718 - mean_squared_error: 0.0601\n",
      "Epoch 8/100\n",
      "7143/7143 [==============================] - 4s 543us/step - loss: 0.1704 - mean_squared_error: 0.0583\n",
      "Epoch 9/100\n",
      "7143/7143 [==============================] - 4s 543us/step - loss: 0.1687 - mean_squared_error: 0.0569\n",
      "Epoch 10/100\n",
      "7143/7143 [==============================] - 4s 545us/step - loss: 0.1675 - mean_squared_error: 0.0557\n",
      "Epoch 11/100\n",
      "7143/7143 [==============================] - 4s 542us/step - loss: 0.1663 - mean_squared_error: 0.0548\n",
      "Epoch 12/100\n",
      "7143/7143 [==============================] - 4s 543us/step - loss: 0.1651 - mean_squared_error: 0.0537\n",
      "Epoch 13/100\n",
      "7143/7143 [==============================] - 4s 546us/step - loss: 0.1641 - mean_squared_error: 0.0529\n",
      "Epoch 14/100\n",
      "7143/7143 [==============================] - 4s 546us/step - loss: 0.1630 - mean_squared_error: 0.0520\n",
      "Epoch 15/100\n",
      "7143/7143 [==============================] - 4s 545us/step - loss: 0.1622 - mean_squared_error: 0.0512\n",
      "Epoch 16/100\n",
      "7143/7143 [==============================] - 4s 544us/step - loss: 0.1615 - mean_squared_error: 0.0507\n",
      "Epoch 17/100\n",
      "7143/7143 [==============================] - 4s 546us/step - loss: 0.1605 - mean_squared_error: 0.0499\n",
      "Epoch 18/100\n",
      "7143/7143 [==============================] - 4s 548us/step - loss: 0.1599 - mean_squared_error: 0.0494\n",
      "Epoch 19/100\n",
      "7143/7143 [==============================] - 4s 546us/step - loss: 0.1593 - mean_squared_error: 0.0490\n",
      "Epoch 20/100\n",
      "7143/7143 [==============================] - 4s 546us/step - loss: 0.1584 - mean_squared_error: 0.0484\n",
      "Epoch 21/100\n",
      "7143/7143 [==============================] - 4s 541us/step - loss: 0.1582 - mean_squared_error: 0.0482\n",
      "Epoch 22/100\n",
      "7143/7143 [==============================] - 4s 535us/step - loss: 0.1574 - mean_squared_error: 0.0477\n",
      "Epoch 23/100\n",
      "7143/7143 [==============================] - 4s 548us/step - loss: 0.1568 - mean_squared_error: 0.0473\n",
      "Epoch 24/100\n",
      "7143/7143 [==============================] - 4s 546us/step - loss: 0.1564 - mean_squared_error: 0.0470\n",
      "Epoch 25/100\n",
      "7143/7143 [==============================] - 4s 545us/step - loss: 0.1559 - mean_squared_error: 0.0465\n",
      "Epoch 26/100\n",
      "7143/7143 [==============================] - 4s 547us/step - loss: 0.1557 - mean_squared_error: 0.0463\n",
      "Epoch 27/100\n",
      "7143/7143 [==============================] - 4s 549us/step - loss: 0.1550 - mean_squared_error: 0.0459\n",
      "Epoch 28/100\n",
      "7143/7143 [==============================] - 4s 548us/step - loss: 0.1551 - mean_squared_error: 0.0460\n",
      "Epoch 29/100\n",
      "7143/7143 [==============================] - 4s 545us/step - loss: 0.1545 - mean_squared_error: 0.0455\n",
      "Epoch 30/100\n",
      "7143/7143 [==============================] - 4s 548us/step - loss: 0.1538 - mean_squared_error: 0.0452\n",
      "Epoch 31/100\n",
      "7143/7143 [==============================] - 4s 549us/step - loss: 0.1539 - mean_squared_error: 0.0451\n",
      "Epoch 32/100\n",
      "7143/7143 [==============================] - 4s 548us/step - loss: 0.1537 - mean_squared_error: 0.0450\n",
      "Epoch 33/100\n",
      "7143/7143 [==============================] - 4s 553us/step - loss: 0.1535 - mean_squared_error: 0.0447\n",
      "Epoch 34/100\n",
      "7143/7143 [==============================] - 4s 550us/step - loss: 0.1531 - mean_squared_error: 0.0446\n",
      "Epoch 35/100\n",
      "7143/7143 [==============================] - 4s 552us/step - loss: 0.1530 - mean_squared_error: 0.0445\n",
      "Epoch 36/100\n",
      "7143/7143 [==============================] - 4s 554us/step - loss: 0.1527 - mean_squared_error: 0.0444\n",
      "Epoch 37/100\n",
      "7143/7143 [==============================] - 4s 525us/step - loss: 0.1523 - mean_squared_error: 0.0442\n",
      "Epoch 38/100\n",
      "7143/7143 [==============================] - 4s 548us/step - loss: 0.1523 - mean_squared_error: 0.0440\n",
      "Epoch 39/100\n",
      "7143/7143 [==============================] - 4s 549us/step - loss: 0.1520 - mean_squared_error: 0.0438\n",
      "Epoch 40/100\n",
      "7143/7143 [==============================] - 4s 549us/step - loss: 0.1518 - mean_squared_error: 0.0437\n",
      "Epoch 41/100\n",
      "7143/7143 [==============================] - 4s 548us/step - loss: 0.1517 - mean_squared_error: 0.0436\n",
      "Epoch 42/100\n",
      "7143/7143 [==============================] - 4s 548us/step - loss: 0.1514 - mean_squared_error: 0.0435\n",
      "Epoch 43/100\n",
      "7143/7143 [==============================] - 4s 548us/step - loss: 0.1512 - mean_squared_error: 0.0433\n",
      "Epoch 44/100\n",
      "7143/7143 [==============================] - 4s 550us/step - loss: 0.1509 - mean_squared_error: 0.0431\n",
      "Epoch 45/100\n",
      "7143/7143 [==============================] - 4s 547us/step - loss: 0.1510 - mean_squared_error: 0.0432\n",
      "Epoch 46/100\n",
      "7143/7143 [==============================] - 4s 547us/step - loss: 0.1508 - mean_squared_error: 0.0431\n",
      "Epoch 47/100\n",
      "7143/7143 [==============================] - 4s 548us/step - loss: 0.1507 - mean_squared_error: 0.0430\n",
      "Epoch 48/100\n",
      "7143/7143 [==============================] - 4s 550us/step - loss: 0.1507 - mean_squared_error: 0.0430\n",
      "Epoch 49/100\n",
      "7143/7143 [==============================] - 4s 552us/step - loss: 0.1504 - mean_squared_error: 0.0428\n",
      "Epoch 50/100\n",
      "7143/7143 [==============================] - 4s 549us/step - loss: 0.1503 - mean_squared_error: 0.0428\n",
      "Epoch 51/100\n",
      "7143/7143 [==============================] - 4s 549us/step - loss: 0.1502 - mean_squared_error: 0.0428\n",
      "Epoch 52/100\n",
      "7143/7143 [==============================] - 4s 546us/step - loss: 0.1501 - mean_squared_error: 0.0426\n",
      "Epoch 53/100\n",
      "7143/7143 [==============================] - 4s 548us/step - loss: 0.1500 - mean_squared_error: 0.0425\n",
      "Epoch 54/100\n",
      "7143/7143 [==============================] - 4s 548us/step - loss: 0.1500 - mean_squared_error: 0.0425\n",
      "Epoch 55/100\n",
      "7143/7143 [==============================] - 4s 550us/step - loss: 0.1496 - mean_squared_error: 0.0423\n",
      "Epoch 56/100\n",
      "7143/7143 [==============================] - 4s 549us/step - loss: 0.1497 - mean_squared_error: 0.0424\n",
      "Epoch 57/100\n",
      "7143/7143 [==============================] - 4s 551us/step - loss: 0.1496 - mean_squared_error: 0.0423\n",
      "Epoch 58/100\n",
      "7143/7143 [==============================] - 4s 549us/step - loss: 0.1494 - mean_squared_error: 0.0423\n",
      "Epoch 59/100\n",
      "7143/7143 [==============================] - 4s 549us/step - loss: 0.1495 - mean_squared_error: 0.0422\n",
      "Epoch 60/100\n",
      "7143/7143 [==============================] - 4s 549us/step - loss: 0.1494 - mean_squared_error: 0.0422\n",
      "Epoch 61/100\n",
      "7143/7143 [==============================] - 4s 552us/step - loss: 0.1494 - mean_squared_error: 0.0422\n",
      "Epoch 62/100\n",
      "7143/7143 [==============================] - 4s 548us/step - loss: 0.1492 - mean_squared_error: 0.0420\n",
      "Epoch 63/100\n",
      "7143/7143 [==============================] - 4s 551us/step - loss: 0.1491 - mean_squared_error: 0.0421\n",
      "Epoch 64/100\n",
      "7143/7143 [==============================] - 4s 549us/step - loss: 0.1491 - mean_squared_error: 0.0420\n",
      "Epoch 65/100\n",
      "7143/7143 [==============================] - 4s 551us/step - loss: 0.1489 - mean_squared_error: 0.0419\n",
      "Epoch 66/100\n",
      "7143/7143 [==============================] - 4s 552us/step - loss: 0.1490 - mean_squared_error: 0.0420\n",
      "Epoch 67/100\n",
      "7143/7143 [==============================] - 4s 551us/step - loss: 0.1490 - mean_squared_error: 0.0418\n",
      "Epoch 68/100\n",
      "7143/7143 [==============================] - 4s 549us/step - loss: 0.1485 - mean_squared_error: 0.0417\n",
      "Epoch 69/100\n",
      "7143/7143 [==============================] - 4s 548us/step - loss: 0.1487 - mean_squared_error: 0.0417\n",
      "Epoch 70/100\n",
      "7143/7143 [==============================] - 4s 550us/step - loss: 0.1487 - mean_squared_error: 0.0417\n",
      "Epoch 71/100\n",
      "7143/7143 [==============================] - 4s 550us/step - loss: 0.1485 - mean_squared_error: 0.0416\n",
      "Epoch 72/100\n",
      "7143/7143 [==============================] - 4s 548us/step - loss: 0.1482 - mean_squared_error: 0.0415\n",
      "Epoch 73/100\n",
      "7143/7143 [==============================] - 4s 549us/step - loss: 0.1484 - mean_squared_error: 0.0414\n",
      "Epoch 74/100\n",
      "7143/7143 [==============================] - 4s 551us/step - loss: 0.1483 - mean_squared_error: 0.0414\n",
      "Epoch 75/100\n",
      "7143/7143 [==============================] - 4s 548us/step - loss: 0.1483 - mean_squared_error: 0.0414\n",
      "Epoch 76/100\n",
      "7143/7143 [==============================] - 4s 549us/step - loss: 0.1481 - mean_squared_error: 0.0413\n",
      "Epoch 77/100\n",
      "7143/7143 [==============================] - 4s 548us/step - loss: 0.1481 - mean_squared_error: 0.0413\n",
      "Epoch 78/100\n",
      "7143/7143 [==============================] - 4s 550us/step - loss: 0.1482 - mean_squared_error: 0.0415\n",
      "Epoch 79/100\n",
      "7143/7143 [==============================] - 4s 549us/step - loss: 0.1481 - mean_squared_error: 0.0412\n",
      "Epoch 80/100\n",
      "7143/7143 [==============================] - 4s 553us/step - loss: 0.1480 - mean_squared_error: 0.0413\n",
      "Epoch 81/100\n",
      "7143/7143 [==============================] - 4s 551us/step - loss: 0.1480 - mean_squared_error: 0.0414\n",
      "Epoch 82/100\n",
      "7143/7143 [==============================] - 4s 563us/step - loss: 0.1480 - mean_squared_error: 0.0413\n",
      "Epoch 83/100\n",
      "7143/7143 [==============================] - 4s 515us/step - loss: 0.1479 - mean_squared_error: 0.0412\n",
      "Epoch 84/100\n",
      "7143/7143 [==============================] - 4s 550us/step - loss: 0.1477 - mean_squared_error: 0.0412\n",
      "Epoch 85/100\n",
      "7143/7143 [==============================] - 4s 549us/step - loss: 0.1480 - mean_squared_error: 0.0413\n",
      "Epoch 86/100\n",
      "7143/7143 [==============================] - 4s 550us/step - loss: 0.1477 - mean_squared_error: 0.0412\n",
      "Epoch 87/100\n",
      "7143/7143 [==============================] - 4s 549us/step - loss: 0.1477 - mean_squared_error: 0.0412\n",
      "Epoch 88/100\n",
      "7143/7143 [==============================] - 4s 553us/step - loss: 0.1477 - mean_squared_error: 0.0412\n",
      "Epoch 89/100\n",
      "7143/7143 [==============================] - 4s 573us/step - loss: 0.1476 - mean_squared_error: 0.0412\n",
      "Epoch 90/100\n",
      "7143/7143 [==============================] - 4s 554us/step - loss: 0.1475 - mean_squared_error: 0.0411\n",
      "Epoch 91/100\n",
      "7143/7143 [==============================] - 4s 552us/step - loss: 0.1474 - mean_squared_error: 0.0409\n",
      "Epoch 92/100\n",
      "7143/7143 [==============================] - 4s 552us/step - loss: 0.1473 - mean_squared_error: 0.0410\n",
      "Epoch 93/100\n",
      "7143/7143 [==============================] - 4s 552us/step - loss: 0.1473 - mean_squared_error: 0.0410\n",
      "Epoch 94/100\n",
      "7143/7143 [==============================] - 4s 552us/step - loss: 0.1474 - mean_squared_error: 0.0410\n",
      "Epoch 95/100\n",
      "7143/7143 [==============================] - 4s 549us/step - loss: 0.1471 - mean_squared_error: 0.0409\n",
      "Epoch 96/100\n",
      "7143/7143 [==============================] - 4s 552us/step - loss: 0.1472 - mean_squared_error: 0.0408\n",
      "Epoch 97/100\n",
      "7143/7143 [==============================] - 4s 550us/step - loss: 0.1472 - mean_squared_error: 0.0409\n",
      "Epoch 98/100\n",
      "7143/7143 [==============================] - 4s 520us/step - loss: 0.1472 - mean_squared_error: 0.0410\n",
      "Epoch 99/100\n",
      "7143/7143 [==============================] - 4s 553us/step - loss: 0.1471 - mean_squared_error: 0.0409\n",
      "Epoch 100/100\n",
      "7143/7143 [==============================] - 4s 551us/step - loss: 0.1471 - mean_squared_error: 0.0410\n"
     ]
    },
    {
     "data": {
      "text/plain": [
       "<keras.callbacks.History at 0x295bf9120>"
      ]
     },
     "execution_count": 17,
     "metadata": {},
     "output_type": "execute_result"
    }
   ],
   "source": [
    "model.fit(x_train, y_train, epochs=100)"
   ]
  },
  {
   "cell_type": "code",
   "execution_count": 18,
   "id": "0c09667d-4c18-43c2-a0c1-c3d049b4ef0c",
   "metadata": {},
   "outputs": [
    {
     "name": "stdout",
     "output_type": "stream",
     "text": [
      "3519/3519 - 1s - loss: 0.1615 - mean_squared_error: 0.0494 - 895ms/epoch - 254us/step\n"
     ]
    }
   ],
   "source": [
    "model.evaluate(x_test,  y_test, verbose=2)\n",
    "model.save(\"othello-discounted.keras\")"
   ]
  },
  {
   "cell_type": "code",
   "execution_count": 29,
   "id": "35170be6-45e9-4665-b5ce-2b5c609b3385",
   "metadata": {},
   "outputs": [
    {
     "name": "stdout",
     "output_type": "stream",
     "text": [
      "153363\n"
     ]
    },
    {
     "data": {
      "text/plain": [
       "[0.54, 0.499, 0.584, 0.522, 0.542, 0.433, 0.289, 0.423, 0.634, 0.504]"
      ]
     },
     "metadata": {},
     "output_type": "display_data"
    },
    {
     "data": {
      "text/plain": [
       "[0.883, 0.885, 0.708, 0.161, 0.642, 0.358, 0.092, 0.298, 0.934, 0.418]"
      ]
     },
     "metadata": {},
     "output_type": "display_data"
    }
   ],
   "source": [
    "start = random.randint(0,len(x_train))\n",
    "end = start + 10\n",
    "print(start)\n",
    "predictions = model(x_train[start:end]).numpy()\n",
    "display(list(np.round(tf.nn.softmax(predictions).numpy(),3)[:,1]))\n",
    "display(list(map(lambda xy: xy[1], y_train[start:end])))"
   ]
  },
  {
   "cell_type": "code",
   "execution_count": 144,
   "id": "b77de64f-0ad8-4af2-8c45-fe268a412a7e",
   "metadata": {},
   "outputs": [
    {
     "name": "stdout",
     "output_type": "stream",
     "text": [
      "Model: \"sequential_20\"\n",
      "_________________________________________________________________\n",
      " Layer (type)                Output Shape              Param #   \n",
      "=================================================================\n",
      " dense_67 (Dense)            (None, 64)                4160      \n",
      "                                                                 \n",
      " dense_68 (Dense)            (None, 256)               16640     \n",
      "                                                                 \n",
      " dropout_14 (Dropout)        (None, 256)               0         \n",
      "                                                                 \n",
      " dense_69 (Dense)            (None, 2)                 514       \n",
      "                                                                 \n",
      "=================================================================\n",
      "Total params: 21,314\n",
      "Trainable params: 21,314\n",
      "Non-trainable params: 0\n",
      "_________________________________________________________________\n"
     ]
    }
   ],
   "source": [
    "model.summary()"
   ]
  },
  {
   "cell_type": "code",
   "execution_count": 148,
   "id": "c552b10a-f0f1-454f-be1c-80dc1c76783f",
   "metadata": {},
   "outputs": [
    {
     "name": "stdout",
     "output_type": "stream",
     "text": [
      "Model: \"sequential_20\"\n",
      "_________________________________________________________________\n",
      " Layer (type)                Output Shape              Param #   \n",
      "=================================================================\n",
      " dense_67 (Dense)            (None, 64)                4160      \n",
      "                                                                 \n",
      " dense_68 (Dense)            (None, 256)               16640     \n",
      "                                                                 \n",
      " dropout_14 (Dropout)        (None, 256)               0         \n",
      "                                                                 \n",
      " dense_69 (Dense)            (None, 2)                 514       \n",
      "                                                                 \n",
      "=================================================================\n",
      "Total params: 21,314\n",
      "Trainable params: 21,314\n",
      "Non-trainable params: 0\n",
      "_________________________________________________________________\n"
     ]
    }
   ],
   "source": [
    "foo = tf.keras.models.load_model('othello.keras')\n",
    "foo.summary()"
   ]
  },
  {
   "cell_type": "code",
   "execution_count": 151,
   "id": "846f0573-e17b-4107-b475-bcbce22f58e1",
   "metadata": {},
   "outputs": [
    {
     "data": {
      "text/plain": [
       "[0.0, 1.0, 1.0, 0.78, 0.0, 0.0, 1.0, 0.37, 1.0, 1.0]"
      ]
     },
     "metadata": {},
     "output_type": "display_data"
    }
   ],
   "source": [
    "foo_pred = foo(x_train[10:20]).numpy()\n",
    "display(list(np.round(tf.nn.softmax(foo_pred).numpy(),2)[:,1]))"
   ]
  },
  {
   "cell_type": "code",
   "execution_count": 7,
   "id": "e1f9ed68-5494-490d-8914-b30ad9c84543",
   "metadata": {},
   "outputs": [
    {
     "data": {
      "text/plain": [
       "[1, 2]"
      ]
     },
     "execution_count": 7,
     "metadata": {},
     "output_type": "execute_result"
    }
   ],
   "source": [
    "[1,2]"
   ]
  },
  {
   "cell_type": "code",
   "execution_count": null,
   "id": "2971686a-45cd-4e5d-8ca2-79b5edac1206",
   "metadata": {},
   "outputs": [],
   "source": []
  }
 ],
 "metadata": {
  "kernelspec": {
   "display_name": "Python 3 (ipykernel)",
   "language": "python",
   "name": "python3"
  },
  "language_info": {
   "codemirror_mode": {
    "name": "ipython",
    "version": 3
   },
   "file_extension": ".py",
   "mimetype": "text/x-python",
   "name": "python",
   "nbconvert_exporter": "python",
   "pygments_lexer": "ipython3",
   "version": "3.10.8"
  }
 },
 "nbformat": 4,
 "nbformat_minor": 5
}
